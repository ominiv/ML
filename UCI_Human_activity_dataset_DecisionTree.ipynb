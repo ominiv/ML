{
 "cells": [
  {
   "cell_type": "markdown",
   "metadata": {},
   "source": [
    "# [실습] DecisionTree\n",
    "## 사용자 행동 인식 데이터 세트"
   ]
  },
  {
   "cell_type": "code",
   "execution_count": 103,
   "metadata": {},
   "outputs": [
    {
     "name": "stdout",
     "output_type": "stream",
     "text": [
      "c:\\Users\\user\\PJT\\Study\\06_ML\n"
     ]
    }
   ],
   "source": [
    "import pandas as pd\n",
    "import numpy as np\n",
    "import matplotlib as plt\n",
    "from sklearn.model_selection import train_test_split\n",
    "from sklearn.metrics import accuracy_score, confusion_matrix, f1_score, recall_score, precision_score\n",
    "from sklearn.tree import DecisionTreeClassifier\n",
    "from sklearn.model_selection import GridSearchCV\n",
    "import os\n",
    "print(os.getcwd())"
   ]
  },
  {
   "cell_type": "code",
   "execution_count": 3,
   "metadata": {},
   "outputs": [
    {
     "name": "stdout",
     "output_type": "stream",
     "text": [
      "전체 피처에서 10개만 추출: 0    tBodyAcc-mean()-X\n",
      "1    tBodyAcc-mean()-Y\n",
      "2    tBodyAcc-mean()-Z\n",
      "3     tBodyAcc-std()-X\n",
      "4     tBodyAcc-std()-Y\n",
      "5     tBodyAcc-std()-Z\n",
      "6     tBodyAcc-mad()-X\n",
      "7     tBodyAcc-mad()-Y\n",
      "8     tBodyAcc-mad()-Z\n",
      "9     tBodyAcc-max()-X\n",
      "Name: column_name, dtype: object\n"
     ]
    }
   ],
   "source": [
    "feature_name_df = pd.read_csv('./db/human_activity/features.txt',sep='\\s+', header=None, names=['column_index','column_name'])\n",
    "\n",
    "feature_name = feature_name_df.iloc[:,1].head(10)\n",
    "print('전체 피처에서 10개만 추출:', feature_name[:10])"
   ]
  },
  {
   "cell_type": "code",
   "execution_count": 4,
   "metadata": {},
   "outputs": [
    {
     "name": "stdout",
     "output_type": "stream",
     "text": [
      "중복된 열 수 : column_index    42\n",
      "dtype: int64\n"
     ]
    },
    {
     "data": {
      "text/html": [
       "<div>\n",
       "<style scoped>\n",
       "    .dataframe tbody tr th:only-of-type {\n",
       "        vertical-align: middle;\n",
       "    }\n",
       "\n",
       "    .dataframe tbody tr th {\n",
       "        vertical-align: top;\n",
       "    }\n",
       "\n",
       "    .dataframe thead th {\n",
       "        text-align: right;\n",
       "    }\n",
       "</style>\n",
       "<table border=\"1\" class=\"dataframe\">\n",
       "  <thead>\n",
       "    <tr style=\"text-align: right;\">\n",
       "      <th></th>\n",
       "      <th>column_index</th>\n",
       "    </tr>\n",
       "    <tr>\n",
       "      <th>column_name</th>\n",
       "      <th></th>\n",
       "    </tr>\n",
       "  </thead>\n",
       "  <tbody>\n",
       "    <tr>\n",
       "      <th>fBodyAcc-bandsEnergy()-1,16</th>\n",
       "      <td>3</td>\n",
       "    </tr>\n",
       "    <tr>\n",
       "      <th>fBodyAcc-bandsEnergy()-1,24</th>\n",
       "      <td>3</td>\n",
       "    </tr>\n",
       "    <tr>\n",
       "      <th>fBodyAcc-bandsEnergy()-1,8</th>\n",
       "      <td>3</td>\n",
       "    </tr>\n",
       "    <tr>\n",
       "      <th>fBodyAcc-bandsEnergy()-17,24</th>\n",
       "      <td>3</td>\n",
       "    </tr>\n",
       "    <tr>\n",
       "      <th>fBodyAcc-bandsEnergy()-17,32</th>\n",
       "      <td>3</td>\n",
       "    </tr>\n",
       "  </tbody>\n",
       "</table>\n",
       "</div>"
      ],
      "text/plain": [
       "                              column_index\n",
       "column_name                               \n",
       "fBodyAcc-bandsEnergy()-1,16              3\n",
       "fBodyAcc-bandsEnergy()-1,24              3\n",
       "fBodyAcc-bandsEnergy()-1,8               3\n",
       "fBodyAcc-bandsEnergy()-17,24             3\n",
       "fBodyAcc-bandsEnergy()-17,32             3"
      ]
     },
     "execution_count": 4,
     "metadata": {},
     "output_type": "execute_result"
    }
   ],
   "source": [
    "feature_dup_df = feature_name_df.groupby('column_name').count()\n",
    "print('중복된 열 수 :', feature_dup_df[feature_dup_df['column_index']>1].count())\n",
    "feature_dup_df[feature_dup_df['column_index']>1].head()"
   ]
  },
  {
   "cell_type": "markdown",
   "metadata": {},
   "source": [
    "### 중복된 column name 변경"
   ]
  },
  {
   "cell_type": "code",
   "execution_count": 46,
   "metadata": {},
   "outputs": [],
   "source": [
    "def get_new_feature_name_df(old_feature_name_df):\n",
    "    feature_dup_df = pd.DataFrame(data = old_feature_name_df.groupby('column_name').cumcount(),columns=['dup_cnt'])\n",
    "    feature_dup_df = feature_dup_df.reset_index()\n",
    "    new_feature_name_df = pd.merge(old_feature_name_df.reset_index(),feature_dup_df, how='outer')\n",
    "    new_feature_name_df['column_name'] = new_feature_name_df[['column_name','dup_cnt']].apply(lambda x : x[0]+'_'+str(x[1]) if x[1]>0 else x[0], axis=1)\n",
    "    new_feature_name_df = new_feature_name_df.drop(['index'],axis=1)\n",
    "    return new_feature_name_df\n"
   ]
  },
  {
   "cell_type": "code",
   "execution_count": 63,
   "metadata": {},
   "outputs": [],
   "source": [
    "def get_human_dataset():\n",
    "    # 공백을 기준으로 분리\n",
    "    feature_name_df = pd.read_csv('./db/human_activity/features.txt',sep='\\s+', header=None, names=['column_index','column_name'])\n",
    "\n",
    "    # 중복된 피처명 수정\n",
    "    new_feature_name_df = get_new_feature_name_df(feature_name_df)\n",
    "    # print(len(np.unique(feature_name_df.column_name)))\n",
    "    # print(len(np.unique(new_feature_name_df.column_name)))\n",
    "\n",
    "    # DataFrame에 피처명을 칼럼에 부여하기위해 리스트 객체로 다시 변환\n",
    "    feature_name= new_feature_name_df.iloc[:,1].values.tolist()\n",
    "\n",
    "    # Test / Train data loading\n",
    "    X_train = pd.read_csv('./db/human_activity/train/X_train.txt', sep='\\s+', names=feature_name)\n",
    "    X_test = pd.read_csv('./db/human_activity/test/X_test.txt', sep='\\s+', names=feature_name)\n",
    "\n",
    "    y_train = pd.read_csv('./db/human_activity/train/y_train.txt', sep='\\s+', names=['action'])\n",
    "    y_test = pd.read_csv('./db/human_activity/test/y_test.txt', sep='\\s+', names=['action'])\n",
    "    print('shape : ', X_train.shape, X_test.shape, y_train.shape, y_test.shape)\n",
    "    return X_train, X_test, y_train, y_test"
   ]
  },
  {
   "cell_type": "code",
   "execution_count": 64,
   "metadata": {},
   "outputs": [
    {
     "name": "stdout",
     "output_type": "stream",
     "text": [
      "shape :  (7352, 561) (2947, 561) (7352, 1) (2947, 1)\n"
     ]
    }
   ],
   "source": [
    "X_train, X_test, y_train, y_test = get_human_dataset()"
   ]
  },
  {
   "cell_type": "code",
   "execution_count": 65,
   "metadata": {},
   "outputs": [
    {
     "name": "stdout",
     "output_type": "stream",
     "text": [
      "## 학습피처 데이터셋 info()\n",
      "<class 'pandas.core.frame.DataFrame'>\n",
      "RangeIndex: 7352 entries, 0 to 7351\n",
      "Columns: 561 entries, tBodyAcc-mean()-X to angle(Z,gravityMean)\n",
      "dtypes: float64(561)\n",
      "memory usage: 31.5 MB\n",
      "None\n"
     ]
    }
   ],
   "source": [
    "print('## 학습피처 데이터셋 info()')\n",
    "print(X_train.info())"
   ]
  },
  {
   "cell_type": "code",
   "execution_count": 68,
   "metadata": {},
   "outputs": [
    {
     "name": "stdout",
     "output_type": "stream",
     "text": [
      "6    1407\n",
      "5    1374\n",
      "4    1286\n",
      "1    1226\n",
      "2    1073\n",
      "3     986\n",
      "Name: action, dtype: int64\n"
     ]
    }
   ],
   "source": [
    "print(y_train.action.value_counts())\n",
    "# 결과 값들이 비교적 고르게 분포함"
   ]
  },
  {
   "cell_type": "code",
   "execution_count": 72,
   "metadata": {},
   "outputs": [
    {
     "name": "stdout",
     "output_type": "stream",
     "text": [
      "결정트리 예측 정확도 0.851714\n",
      "DecisionTreeClassifier parameter \n",
      ": {'ccp_alpha': 0.0, 'class_weight': None, 'criterion': 'gini', 'max_depth': None, 'max_features': None, 'max_leaf_nodes': None, 'min_impurity_decrease': 0.0, 'min_impurity_split': None, 'min_samples_leaf': 1, 'min_samples_split': 2, 'min_weight_fraction_leaf': 0.0, 'random_state': None, 'splitter': 'best'}\n"
     ]
    }
   ],
   "source": [
    "model = DecisionTreeClassifier()\n",
    "model.fit(X_train,y_train)\n",
    "pred = model.predict(X_test)\n",
    "accuracy = accuracy_score(pred, y_test)\n",
    "print('결정트리 예측 정확도 {0:4f}'.format(accuracy))\n",
    "print('DecisionTreeClassifier parameter \\n:',model.get_params())"
   ]
  },
  {
   "cell_type": "markdown",
   "metadata": {},
   "source": [
    "### GridSearchCV를 이용해 결정트리의 깊이 조절에 따른 정확도 비교를 해보자.\n",
    "- max_depth가 8 일때 5개 폴드 세트의 최고 평균 정확도 결과가 85%이다.\n",
    "- max_depth 8에서 가장 좋은 성능을 가짐.\n",
    "- 별도의 테스트 데이터에서 depth에 따른 성능비교를 해보자."
   ]
  },
  {
   "cell_type": "code",
   "execution_count": 88,
   "metadata": {},
   "outputs": [
    {
     "name": "stdout",
     "output_type": "stream",
     "text": [
      "Fitting 5 folds for each of 8 candidates, totalling 40 fits\n",
      "GridSearchCV 최고 평균 정확도 수치 : 0.8549\n",
      "GridSearchCV 최적 parameter : \n",
      " {'max_depth': 8, 'min_samples_split': 16}\n"
     ]
    }
   ],
   "source": [
    "params = {\n",
    "    'max_depth' : [6,8,10,12],\n",
    "    'min_samples_split' :[16,24]\n",
    "}\n",
    "\n",
    "grid_cv = GridSearchCV(model,param_grid=params, scoring='accuracy',cv=5,verbose=1)\n",
    "grid_cv.fit(X_train,y_train)\n",
    "print('GridSearchCV 최고 평균 정확도 수치 : {0:.4f}'.format(grid_cv.best_score_))\n",
    "print('GridSearchCV 최적 parameter : \\n', grid_cv.best_params_)"
   ]
  },
  {
   "cell_type": "code",
   "execution_count": 93,
   "metadata": {},
   "outputs": [
    {
     "data": {
      "text/html": [
       "<div>\n",
       "<style scoped>\n",
       "    .dataframe tbody tr th:only-of-type {\n",
       "        vertical-align: middle;\n",
       "    }\n",
       "\n",
       "    .dataframe tbody tr th {\n",
       "        vertical-align: top;\n",
       "    }\n",
       "\n",
       "    .dataframe thead th {\n",
       "        text-align: right;\n",
       "    }\n",
       "</style>\n",
       "<table border=\"1\" class=\"dataframe\">\n",
       "  <thead>\n",
       "    <tr style=\"text-align: right;\">\n",
       "      <th></th>\n",
       "      <th>param_max_depth</th>\n",
       "      <th>param_min_samples_split</th>\n",
       "      <th>mean_test_score</th>\n",
       "    </tr>\n",
       "  </thead>\n",
       "  <tbody>\n",
       "    <tr>\n",
       "      <th>0</th>\n",
       "      <td>6</td>\n",
       "      <td>16</td>\n",
       "      <td>0.847662</td>\n",
       "    </tr>\n",
       "    <tr>\n",
       "      <th>1</th>\n",
       "      <td>6</td>\n",
       "      <td>24</td>\n",
       "      <td>0.846575</td>\n",
       "    </tr>\n",
       "    <tr>\n",
       "      <th>2</th>\n",
       "      <td>8</td>\n",
       "      <td>16</td>\n",
       "      <td>0.854879</td>\n",
       "    </tr>\n",
       "    <tr>\n",
       "      <th>3</th>\n",
       "      <td>8</td>\n",
       "      <td>24</td>\n",
       "      <td>0.851342</td>\n",
       "    </tr>\n",
       "    <tr>\n",
       "      <th>4</th>\n",
       "      <td>10</td>\n",
       "      <td>16</td>\n",
       "      <td>0.852705</td>\n",
       "    </tr>\n",
       "    <tr>\n",
       "      <th>5</th>\n",
       "      <td>10</td>\n",
       "      <td>24</td>\n",
       "      <td>0.854064</td>\n",
       "    </tr>\n",
       "    <tr>\n",
       "      <th>6</th>\n",
       "      <td>12</td>\n",
       "      <td>16</td>\n",
       "      <td>0.845768</td>\n",
       "    </tr>\n",
       "    <tr>\n",
       "      <th>7</th>\n",
       "      <td>12</td>\n",
       "      <td>24</td>\n",
       "      <td>0.846175</td>\n",
       "    </tr>\n",
       "  </tbody>\n",
       "</table>\n",
       "</div>"
      ],
      "text/plain": [
       "  param_max_depth param_min_samples_split  mean_test_score\n",
       "0               6                      16         0.847662\n",
       "1               6                      24         0.846575\n",
       "2               8                      16         0.854879\n",
       "3               8                      24         0.851342\n",
       "4              10                      16         0.852705\n",
       "5              10                      24         0.854064\n",
       "6              12                      16         0.845768\n",
       "7              12                      24         0.846175"
      ]
     },
     "execution_count": 93,
     "metadata": {},
     "output_type": "execute_result"
    }
   ],
   "source": [
    "# GridSearchCV 객체의 cv_result_ 속성을 df로 생성\n",
    "cv_result_df = pd.DataFrame(grid_cv.cv_results_)\n",
    "cv_result_df.columns\n",
    "cv_result_df[['param_max_depth','param_min_samples_split','mean_test_score']]"
   ]
  },
  {
   "cell_type": "code",
   "execution_count": 94,
   "metadata": {},
   "outputs": [
    {
     "name": "stdout",
     "output_type": "stream",
     "text": [
      "max_depth : 6 / accuracy : 0.8551\n",
      "max_depth : 8 / accuracy : 0.8731\n",
      "max_depth : 10 / accuracy : 0.8646\n",
      "max_depth : 12 / accuracy : 0.8653\n",
      "max_depth : 16 / accuracy : 0.8568\n",
      "max_depth : 20 / accuracy : 0.8568\n",
      "max_depth : 24 / accuracy : 0.8575\n"
     ]
    }
   ],
   "source": [
    "max_depth = [6,8,10,12,16,20,24]\n",
    "# max_depth 갑을 번화시키면서 그때마다 학습과 테스트 세트에서의 예측성능 예측\n",
    "for depth in max_depth:\n",
    "    best_model = DecisionTreeClassifier(max_depth= depth, min_samples_split=16)\n",
    "    best_model.fit(X_train,y_train)\n",
    "    pred = best_model.predict(X_test)\n",
    "    accuracy = accuracy_score(pred, y_test)\n",
    "    print('max_depth : {0} / accuracy : {1:.4f}'.format(depth, accuracy))"
   ]
  },
  {
   "cell_type": "markdown",
   "metadata": {},
   "source": [
    "### 어떤 피쳐가 영향력이 있는지 확인해보자."
   ]
  },
  {
   "cell_type": "code",
   "execution_count": 96,
   "metadata": {},
   "outputs": [
    {
     "name": "stdout",
     "output_type": "stream",
     "text": [
      "accuracy : 0.8717339667458432\n"
     ]
    }
   ],
   "source": [
    "best_model = grid_cv.best_estimator_\n",
    "best_model.fit(X_train,y_train)\n",
    "pred = best_model.predict(X_test)\n",
    "accuracy = accuracy_score(pred, y_test)\n",
    "print('accuracy :', accuracy)\n"
   ]
  },
  {
   "cell_type": "code",
   "execution_count": 110,
   "metadata": {},
   "outputs": [
    {
     "data": {
      "image/png": "[encoded data removed]",
      "text/plain": [
       "<Figure size 576x432 with 1 Axes>"
      ]
     },
     "metadata": {
      "needs_background": "light"
     },
     "output_type": "display_data"
    }
   ],
   "source": [
    "import seaborn as sns\n",
    "import matplotlib.pyplot as plt\n",
    "\n",
    "ftr_importance_values = best_model.feature_importances_\n",
    "\n",
    "# Top 중요도로 정렬을 쉽게하고 seaborn의 막대그래프로 쉽게 표현하기 위해 Series 변환\n",
    "ftr_importance = pd.Series(ftr_importance_values, index=X_train.columns)\n",
    "top20 = ftr_importance.sort_values(ascending=False)[:20]\n",
    "\n",
    "plt.figure(figsize = (8,6))\n",
    "plt.title('Feature importacne Top 20')\n",
    "sns.barplot(x=top20, y=top20.index)\n",
    "plt.show()"
   ]
  },
  {
   "cell_type": "code",
   "execution_count": null,
   "metadata": {},
   "outputs": [],
   "source": []
  }
 ],
 "metadata": {
  "interpreter": {
   "hash": "6d46af94c2bbce495f1e668725902fa517c90b1782bcfe2fce0dd9868df553d3"
  },
  "kernelspec": {
   "display_name": "Python 3.8.8 64-bit ('base': conda)",
   "language": "python",
   "name": "python3"
  },
  "language_info": {
   "codemirror_mode": {
    "name": "ipython",
    "version": 3
   },
   "file_extension": ".py",
   "mimetype": "text/x-python",
   "name": "python",
   "nbconvert_exporter": "python",
   "pygments_lexer": "ipython3",
   "version": "3.8.8"
  },
  "orig_nbformat": 4
 },
 "nbformat": 4,
 "nbformat_minor": 2
}
