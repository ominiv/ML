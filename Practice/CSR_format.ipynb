{
  "nbformat": 4,
  "nbformat_minor": 0,
  "metadata": {
    "colab": {
      "name": "CSR format.ipynb",
      "provenance": [],
      "authorship_tag": "ABX9TyPZBhMo2LTw/w4ZxaKqXTAa"
    },
    "kernelspec": {
      "name": "python3",
      "display_name": "Python 3"
    },
    "language_info": {
      "name": "python"
    }
  },
  "cells": [
    {
      "cell_type": "markdown",
      "source": [
        "# COO/ CSR 형식 "
      ],
      "metadata": {
        "id": "BRwQnq6gHbNl"
      }
    },
    {
      "cell_type": "code",
      "source": [
        "from scipy import sparse\n",
        "import numpy as np\n",
        "\n",
        "dense = np.array([[0,1,2],\n",
        "                  [0,3,4],\n",
        "                  [0,0,0],\n",
        "                  [0,5,6]])\n",
        "\n",
        "#0이 아닌 데이터 추출\n",
        "non_zero_data = np.arange(1,7)\n",
        "row_pos = [0,0,1,1,3,3]\n",
        "col_pos = [1,2,1,2,1,2]\n",
        "\n",
        "#COO형식으로 변환\n",
        "sparse_coo = sparse.coo_matrix((non_zero_data,(row_pos,col_pos)))\n",
        "print('COO :\\n',sparse_coo.toarray())\n",
        "\n",
        "#행 위치 배열의 고유한 값의 시작 위치 인덱스를 배열로 생성\n",
        "row_pos_ind = [0,2,4,4,6]\n",
        "\n",
        "sparse_csr = sparse.csr_matrix((non_zero_data,col_pos, row_pos_ind))\n",
        "print('CSR :\\n',sparse_csr.toarray())\n"
      ],
      "metadata": {
        "colab": {
          "base_uri": "https://localhost:8080/"
        },
        "id": "uTi11ZGvHmXq",
        "outputId": "992b2367-8839-4113-fd57-9a1deafd08a0"
      },
      "execution_count": 10,
      "outputs": [
        {
          "output_type": "stream",
          "name": "stdout",
          "text": [
            "COO :\n",
            " [[0 1 2]\n",
            " [0 3 4]\n",
            " [0 0 0]\n",
            " [0 5 6]]\n",
            "CSR :\n",
            " [[0 1 2]\n",
            " [0 3 4]\n",
            " [0 0 0]\n",
            " [0 5 6]]\n"
          ]
        }
      ]
    },
    {
      "cell_type": "code",
      "source": [
        ""
      ],
      "metadata": {
        "id": "NOaD061bHpOf"
      },
      "execution_count": null,
      "outputs": []
    }
  ]
}