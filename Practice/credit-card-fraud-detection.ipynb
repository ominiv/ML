{
 "cells": [
  {
   "cell_type": "markdown",
   "id": "fe1dfff0",
   "metadata": {
    "papermill": {
     "duration": 0.015411,
     "end_time": "2022-01-05T08:27:50.802129",
     "exception": false,
     "start_time": "2022-01-05T08:27:50.786718",
     "status": "completed"
    },
    "tags": []
   },
   "source": [
    "# Credit Card Fraud Detection\n",
    "- [notice] imbalanced dataset\n",
    "- Amount feature `log transformation` & `outlier제거` & `SMOTE oversampling`을 진행 후, `LightGBM` 학습/예측한 결과가 가장 좋은 결과를 도출했다.\n"
   ]
  },
  {
   "cell_type": "code",
   "execution_count": 1,
   "id": "6f2ab8da",
   "metadata": {
    "_cell_guid": "b1076dfc-b9ad-4769-8c92-a6c4dae69d19",
    "_uuid": "8f2839f25d086af736a60e9eeb907d3b93b6e0e5",
    "execution": {
     "iopub.execute_input": "2022-01-05T08:27:50.844828Z",
     "iopub.status.busy": "2022-01-05T08:27:50.844094Z",
     "iopub.status.idle": "2022-01-05T08:27:50.859633Z",
     "shell.execute_reply": "2022-01-05T08:27:50.860057Z",
     "shell.execute_reply.started": "2022-01-05T08:24:12.469195Z"
    },
    "papermill": {
     "duration": 0.042162,
     "end_time": "2022-01-05T08:27:50.860290",
     "exception": false,
     "start_time": "2022-01-05T08:27:50.818128",
     "status": "completed"
    },
    "tags": []
   },
   "outputs": [
    {
     "name": "stdout",
     "output_type": "stream",
     "text": [
      "/kaggle/input/creditcardfraud/creditcard.csv\n"
     ]
    },
    {
     "data": {
      "text/plain": [
       "<function posix.getcwd()>"
      ]
     },
     "execution_count": 1,
     "metadata": {},
     "output_type": "execute_result"
    }
   ],
   "source": [
    "# This Python 3 environment comes with many helpful analytics libraries installed\n",
    "# It is defined by the kaggle/python Docker image: https://github.com/kaggle/docker-python\n",
    "# For example, here's several helpful packages to load\n",
    "\n",
    "import numpy as np # linear algebra\n",
    "import pandas as pd # data processing, CSV file I/O (e.g. pd.read_csv)\n",
    "\n",
    "# Input data files are available in the read-only \"../input/\" directory\n",
    "# For example, running this (by clicking run or pressing Shift+Enter) will list all files under the input directory\n",
    "\n",
    "import os\n",
    "for dirname, _, filenames in os.walk('/kaggle/input'):\n",
    "    for filename in filenames:\n",
    "        print(os.path.join(dirname, filename))\n",
    "os.getcwd\n",
    "# You can write up to 20GB to the current directory (/kaggle/working/) that gets preserved as output when you create a version using \"Save & Run All\" \n",
    "# You can also write temporary files to /kaggle/temp/, but they won't be saved outside of the current session"
   ]
  },
  {
   "cell_type": "code",
   "execution_count": 2,
   "id": "b3eeec5b",
   "metadata": {
    "execution": {
     "iopub.execute_input": "2022-01-05T08:27:50.900470Z",
     "iopub.status.busy": "2022-01-05T08:27:50.898310Z",
     "iopub.status.idle": "2022-01-05T08:27:53.963292Z",
     "shell.execute_reply": "2022-01-05T08:27:53.962339Z",
     "shell.execute_reply.started": "2022-01-05T08:24:12.487218Z"
    },
    "papermill": {
     "duration": 3.088389,
     "end_time": "2022-01-05T08:27:53.963476",
     "exception": false,
     "start_time": "2022-01-05T08:27:50.875087",
     "status": "completed"
    },
    "tags": []
   },
   "outputs": [
    {
     "data": {
      "text/html": [
       "<style type='text/css'>\n",
       ".datatable table.frame { margin-bottom: 0; }\n",
       ".datatable table.frame thead { border-bottom: none; }\n",
       ".datatable table.frame tr.coltypes td {  color: #FFFFFF;  line-height: 6px;  padding: 0 0.5em;}\n",
       ".datatable .bool    { background: #DDDD99; }\n",
       ".datatable .object  { background: #565656; }\n",
       ".datatable .int     { background: #5D9E5D; }\n",
       ".datatable .float   { background: #4040CC; }\n",
       ".datatable .str     { background: #CC4040; }\n",
       ".datatable .time    { background: #40CC40; }\n",
       ".datatable .row_index {  background: var(--jp-border-color3);  border-right: 1px solid var(--jp-border-color0);  color: var(--jp-ui-font-color3);  font-size: 9px;}\n",
       ".datatable .frame tbody td { text-align: left; }\n",
       ".datatable .frame tr.coltypes .row_index {  background: var(--jp-border-color0);}\n",
       ".datatable th:nth-child(2) { padding-left: 12px; }\n",
       ".datatable .hellipsis {  color: var(--jp-cell-editor-border-color);}\n",
       ".datatable .vellipsis {  background: var(--jp-layout-color0);  color: var(--jp-cell-editor-border-color);}\n",
       ".datatable .na {  color: var(--jp-cell-editor-border-color);  font-size: 80%;}\n",
       ".datatable .sp {  opacity: 0.25;}\n",
       ".datatable .footer { font-size: 9px; }\n",
       ".datatable .frame_dimensions {  background: var(--jp-border-color3);  border-top: 1px solid var(--jp-border-color0);  color: var(--jp-ui-font-color3);  display: inline-block;  opacity: 0.6;  padding: 1px 10px 1px 5px;}\n",
       "</style>\n"
      ],
      "text/plain": [
       "<IPython.core.display.HTML object>"
      ]
     },
     "metadata": {},
     "output_type": "display_data"
    }
   ],
   "source": [
    "from sklearn.model_selection import train_test_split\n",
    "from sklearn.metrics import confusion_matrix,accuracy_score, precision_score, recall_score, f1_score, roc_auc_score\n",
    "from sklearn.linear_model import LogisticRegression\n",
    "from lightgbm import LGBMClassifier\n",
    "import warnings\n",
    "warnings.filterwarnings('ignore')\n",
    "\n",
    "def get_preprocessed_df(df=None): #필요없는 열 제거\n",
    "    df_copy= df.copy()\n",
    "    df_copy.drop('Time', axis=1, inplace=True)\n",
    "    return df_copy\n",
    "\n",
    "def get_train_test_dataset(df=None) : # data split\n",
    "    df_copy = get_preprocessed_df(df)\n",
    "    X_features = df_copy.iloc[:,:-1]\n",
    "    y_labels = df_copy.iloc[:,-1]\n",
    "    X_train, X_test, y_train, y_test = train_test_split(X_features, y_labels, test_size=0.3, stratify=y_labels)\n",
    "    return X_train, X_test, y_train, y_test \n",
    "\n",
    "def get_clf_eval(y_test, preds, pred_probs): # print evaluation metric\n",
    "    mat = confusion_matrix(y_test,preds)\n",
    "    acc = accuracy_score(y_test,preds)\n",
    "    precision = precision_score(y_test,preds)\n",
    "    recall = recall_score(y_test,preds)\n",
    "    f1 = f1_score(y_test, preds)\n",
    "    auc = roc_auc_score(y_test,preds)\n",
    "    print('오차행렬 \\n{}  \\n정확도 : {:.6f} 정밀도 :{:.3f} 재현율 :{:.3f} f1 :{:.3f} auc:{:.3f}'.format(mat, acc,precision, recall,f1,auc))\n",
    "\n",
    "def get_model_train_eval(model, ftr_train=None, ftr_test=None, tgt_train=None, tgt_test=None): # 학습 / 예측 / 평가\n",
    "    model.fit(ftr_train,tgt_train)\n",
    "    pred = model.predict(ftr_test)\n",
    "    pred_proba = model.predict_proba(ftr_test)[:,1]\n",
    "    get_clf_eval(y_test=tgt_test,preds=pred,pred_probs=pred_proba)"
   ]
  },
  {
   "cell_type": "markdown",
   "id": "430bf28e",
   "metadata": {
    "papermill": {
     "duration": 0.016043,
     "end_time": "2022-01-05T08:27:53.994799",
     "exception": false,
     "start_time": "2022-01-05T08:27:53.978756",
     "status": "completed"
    },
    "tags": []
   },
   "source": [
    "## 데이터 1차 가공 및 모델 학습/예측/평가\n",
    "- inbalance data이므로 train_test_split() stratify옵션을 활용해 원본 데이터와 유사하게 train, test dataset으로 분할함"
   ]
  },
  {
   "cell_type": "code",
   "execution_count": 3,
   "id": "50c86ddc",
   "metadata": {
    "execution": {
     "iopub.execute_input": "2022-01-05T08:27:54.030901Z",
     "iopub.status.busy": "2022-01-05T08:27:54.030232Z",
     "iopub.status.idle": "2022-01-05T08:27:57.387919Z",
     "shell.execute_reply": "2022-01-05T08:27:57.388370Z",
     "shell.execute_reply.started": "2022-01-05T08:24:12.502929Z"
    },
    "papermill": {
     "duration": 3.377955,
     "end_time": "2022-01-05T08:27:57.388538",
     "exception": false,
     "start_time": "2022-01-05T08:27:54.010583",
     "status": "completed"
    },
    "tags": []
   },
   "outputs": [
    {
     "name": "stdout",
     "output_type": "stream",
     "text": [
      "dataset shape : (284807, 31)\n"
     ]
    },
    {
     "data": {
      "text/html": [
       "<div>\n",
       "<style scoped>\n",
       "    .dataframe tbody tr th:only-of-type {\n",
       "        vertical-align: middle;\n",
       "    }\n",
       "\n",
       "    .dataframe tbody tr th {\n",
       "        vertical-align: top;\n",
       "    }\n",
       "\n",
       "    .dataframe thead th {\n",
       "        text-align: right;\n",
       "    }\n",
       "</style>\n",
       "<table border=\"1\" class=\"dataframe\">\n",
       "  <thead>\n",
       "    <tr style=\"text-align: right;\">\n",
       "      <th></th>\n",
       "      <th>Time</th>\n",
       "      <th>V1</th>\n",
       "      <th>V2</th>\n",
       "      <th>V3</th>\n",
       "      <th>V4</th>\n",
       "      <th>V5</th>\n",
       "      <th>V6</th>\n",
       "      <th>V7</th>\n",
       "      <th>V8</th>\n",
       "      <th>V9</th>\n",
       "      <th>...</th>\n",
       "      <th>V21</th>\n",
       "      <th>V22</th>\n",
       "      <th>V23</th>\n",
       "      <th>V24</th>\n",
       "      <th>V25</th>\n",
       "      <th>V26</th>\n",
       "      <th>V27</th>\n",
       "      <th>V28</th>\n",
       "      <th>Amount</th>\n",
       "      <th>Class</th>\n",
       "    </tr>\n",
       "  </thead>\n",
       "  <tbody>\n",
       "    <tr>\n",
       "      <th>0</th>\n",
       "      <td>0.0</td>\n",
       "      <td>-1.359807</td>\n",
       "      <td>-0.072781</td>\n",
       "      <td>2.536347</td>\n",
       "      <td>1.378155</td>\n",
       "      <td>-0.338321</td>\n",
       "      <td>0.462388</td>\n",
       "      <td>0.239599</td>\n",
       "      <td>0.098698</td>\n",
       "      <td>0.363787</td>\n",
       "      <td>...</td>\n",
       "      <td>-0.018307</td>\n",
       "      <td>0.277838</td>\n",
       "      <td>-0.110474</td>\n",
       "      <td>0.066928</td>\n",
       "      <td>0.128539</td>\n",
       "      <td>-0.189115</td>\n",
       "      <td>0.133558</td>\n",
       "      <td>-0.021053</td>\n",
       "      <td>149.62</td>\n",
       "      <td>0</td>\n",
       "    </tr>\n",
       "    <tr>\n",
       "      <th>1</th>\n",
       "      <td>0.0</td>\n",
       "      <td>1.191857</td>\n",
       "      <td>0.266151</td>\n",
       "      <td>0.166480</td>\n",
       "      <td>0.448154</td>\n",
       "      <td>0.060018</td>\n",
       "      <td>-0.082361</td>\n",
       "      <td>-0.078803</td>\n",
       "      <td>0.085102</td>\n",
       "      <td>-0.255425</td>\n",
       "      <td>...</td>\n",
       "      <td>-0.225775</td>\n",
       "      <td>-0.638672</td>\n",
       "      <td>0.101288</td>\n",
       "      <td>-0.339846</td>\n",
       "      <td>0.167170</td>\n",
       "      <td>0.125895</td>\n",
       "      <td>-0.008983</td>\n",
       "      <td>0.014724</td>\n",
       "      <td>2.69</td>\n",
       "      <td>0</td>\n",
       "    </tr>\n",
       "    <tr>\n",
       "      <th>2</th>\n",
       "      <td>1.0</td>\n",
       "      <td>-1.358354</td>\n",
       "      <td>-1.340163</td>\n",
       "      <td>1.773209</td>\n",
       "      <td>0.379780</td>\n",
       "      <td>-0.503198</td>\n",
       "      <td>1.800499</td>\n",
       "      <td>0.791461</td>\n",
       "      <td>0.247676</td>\n",
       "      <td>-1.514654</td>\n",
       "      <td>...</td>\n",
       "      <td>0.247998</td>\n",
       "      <td>0.771679</td>\n",
       "      <td>0.909412</td>\n",
       "      <td>-0.689281</td>\n",
       "      <td>-0.327642</td>\n",
       "      <td>-0.139097</td>\n",
       "      <td>-0.055353</td>\n",
       "      <td>-0.059752</td>\n",
       "      <td>378.66</td>\n",
       "      <td>0</td>\n",
       "    </tr>\n",
       "  </tbody>\n",
       "</table>\n",
       "<p>3 rows × 31 columns</p>\n",
       "</div>"
      ],
      "text/plain": [
       "   Time        V1        V2        V3        V4        V5        V6        V7  \\\n",
       "0   0.0 -1.359807 -0.072781  2.536347  1.378155 -0.338321  0.462388  0.239599   \n",
       "1   0.0  1.191857  0.266151  0.166480  0.448154  0.060018 -0.082361 -0.078803   \n",
       "2   1.0 -1.358354 -1.340163  1.773209  0.379780 -0.503198  1.800499  0.791461   \n",
       "\n",
       "         V8        V9  ...       V21       V22       V23       V24       V25  \\\n",
       "0  0.098698  0.363787  ... -0.018307  0.277838 -0.110474  0.066928  0.128539   \n",
       "1  0.085102 -0.255425  ... -0.225775 -0.638672  0.101288 -0.339846  0.167170   \n",
       "2  0.247676 -1.514654  ...  0.247998  0.771679  0.909412 -0.689281 -0.327642   \n",
       "\n",
       "        V26       V27       V28  Amount  Class  \n",
       "0 -0.189115  0.133558 -0.021053  149.62      0  \n",
       "1  0.125895 -0.008983  0.014724    2.69      0  \n",
       "2 -0.139097 -0.055353 -0.059752  378.66      0  \n",
       "\n",
       "[3 rows x 31 columns]"
      ]
     },
     "execution_count": 3,
     "metadata": {},
     "output_type": "execute_result"
    }
   ],
   "source": [
    "dataset = pd.read_csv('./../input/creditcardfraud/creditcard.csv')\n",
    "print('dataset shape :', dataset.shape)\n",
    "dataset.head(3)"
   ]
  },
  {
   "cell_type": "code",
   "execution_count": 4,
   "id": "bab5d960",
   "metadata": {
    "execution": {
     "iopub.execute_input": "2022-01-05T08:27:57.425993Z",
     "iopub.status.busy": "2022-01-05T08:27:57.424971Z",
     "iopub.status.idle": "2022-01-05T08:27:57.771449Z",
     "shell.execute_reply": "2022-01-05T08:27:57.772140Z",
     "shell.execute_reply.started": "2022-01-05T08:24:14.134197Z"
    },
    "papermill": {
     "duration": 0.367789,
     "end_time": "2022-01-05T08:27:57.772306",
     "exception": false,
     "start_time": "2022-01-05T08:27:57.404517",
     "status": "completed"
    },
    "tags": []
   },
   "outputs": [
    {
     "name": "stdout",
     "output_type": "stream",
     "text": [
      "(199364, 29) (85443, 29) (199364,) (85443,)\n",
      "학습데이터 레이블값 비율0.172549\n",
      "테스트데이터 레이블값 비율0.173215\n"
     ]
    }
   ],
   "source": [
    "X_train, X_test, y_train, y_test = get_train_test_dataset(dataset)\n",
    "print(X_train.shape, X_test.shape, y_train.shape, y_test.shape)\n",
    "print('학습데이터 레이블값 비율{0:.6f}'.format((sum(y_train==1)/y_train.count())*100))\n",
    "print('테스트데이터 레이블값 비율{0:.6f}'.format((sum(y_test==1)/y_test.count())*100))"
   ]
  },
  {
   "cell_type": "markdown",
   "id": "b1a4d8a3",
   "metadata": {
    "papermill": {
     "duration": 0.01557,
     "end_time": "2022-01-05T08:27:57.803745",
     "exception": false,
     "start_time": "2022-01-05T08:27:57.788175",
     "status": "completed"
    },
    "tags": []
   },
   "source": [
    "### LogisticRegression 학습/ 예측/ 평가\n",
    "- 정확도 : 0.999251 정밀도 :0.882 재현율 :0.655 f1 :0.752 auc:0.828"
   ]
  },
  {
   "cell_type": "code",
   "execution_count": 5,
   "id": "9f518dd2",
   "metadata": {
    "execution": {
     "iopub.execute_input": "2022-01-05T08:27:57.842402Z",
     "iopub.status.busy": "2022-01-05T08:27:57.841246Z",
     "iopub.status.idle": "2022-01-05T08:28:02.706454Z",
     "shell.execute_reply": "2022-01-05T08:28:02.707626Z",
     "shell.execute_reply.started": "2022-01-05T08:24:14.465780Z"
    },
    "papermill": {
     "duration": 4.888328,
     "end_time": "2022-01-05T08:28:02.707854",
     "exception": false,
     "start_time": "2022-01-05T08:27:57.819526",
     "status": "completed"
    },
    "tags": []
   },
   "outputs": [
    {
     "name": "stdout",
     "output_type": "stream",
     "text": [
      "오차행렬 \n",
      "[[85279    16]\n",
      " [   51    97]]  \n",
      "정확도 : 0.999216 정밀도 :0.858 재현율 :0.655 f1 :0.743 auc:0.828\n"
     ]
    }
   ],
   "source": [
    "lr_clf = LogisticRegression(solver='liblinear')\n",
    "get_model_train_eval(lr_clf,ftr_train=X_train, ftr_test=X_test, tgt_train=y_train, tgt_test=y_test)"
   ]
  },
  {
   "cell_type": "markdown",
   "id": "2a7d220e",
   "metadata": {
    "papermill": {
     "duration": 0.016324,
     "end_time": "2022-01-05T08:28:02.741024",
     "exception": false,
     "start_time": "2022-01-05T08:28:02.724700",
     "status": "completed"
    },
    "tags": []
   },
   "source": [
    "### LightGBM 학습/ 예측/ 평가\n",
    "- imbalanced data 이므로 LGBMClassifier 객체 생성시 Boost_from_average=False로 지정함\n",
    "- 정확도 : 0.999590 정밀도 :0.938 재현율 :0.818 f1 :0.874 auc:0.909\n"
   ]
  },
  {
   "cell_type": "code",
   "execution_count": 6,
   "id": "ecb94e84",
   "metadata": {
    "execution": {
     "iopub.execute_input": "2022-01-05T08:28:02.779075Z",
     "iopub.status.busy": "2022-01-05T08:28:02.778264Z",
     "iopub.status.idle": "2022-01-05T08:28:32.867266Z",
     "shell.execute_reply": "2022-01-05T08:28:32.867922Z",
     "shell.execute_reply.started": "2022-01-05T08:24:21.472504Z"
    },
    "papermill": {
     "duration": 30.110808,
     "end_time": "2022-01-05T08:28:32.868123",
     "exception": false,
     "start_time": "2022-01-05T08:28:02.757315",
     "status": "completed"
    },
    "tags": []
   },
   "outputs": [
    {
     "name": "stdout",
     "output_type": "stream",
     "text": [
      "오차행렬 \n",
      "[[85290     5]\n",
      " [   22   126]]  \n",
      "정확도 : 0.999684 정밀도 :0.962 재현율 :0.851 f1 :0.903 auc:0.926\n"
     ]
    }
   ],
   "source": [
    "lgbm_clf = LGBMClassifier(n_estimators=1000, num_leaves=64, n_jobs=-1,boost_from_average=False)\n",
    "get_model_train_eval(lgbm_clf, X_train, X_test, y_train, y_test)"
   ]
  },
  {
   "cell_type": "markdown",
   "id": "8fc949b1",
   "metadata": {
    "papermill": {
     "duration": 0.016235,
     "end_time": "2022-01-05T08:28:32.901996",
     "exception": false,
     "start_time": "2022-01-05T08:28:32.885761",
     "status": "completed"
    },
    "tags": []
   },
   "source": [
    "## 데이터 분포 변환 후 모델 학습/예측/평가\n",
    "- 왜곡된 분포를 가지는 피쳐가 있는지 확인해보자.\n",
    "- Amount feature의 경우 굉장히 치우쳐있고 대다수의 값들이 1000$ 이하다. \n",
    "    *  StandardScaler()를 활용해 scaling을 진행\n",
    "        * LogisticRegression 예측 성능 : <Br>정확도 : 0.999087 정밀도 :0.850 재현율 :0.574 f1 :0.685 auc:0.787 \n",
    "        * LightGBM 예측성능 : <Br>정확도 : 0.996980 정밀도 :0.259 재현율 :0.399 f1 :0.314 auc:0.698 \n",
    "    *  **np.log1p를 활용해 scaling을 진행**\n",
    "        * LogisticRegression 예측 성능 : <Br>정확도 : 0.999274 정밀도 :0.906 재현율 :0.649 f1 :0.756 auc:0.824\n",
    "        * LightGBM 예측성능 : <br> 정확도 : 0.997390 정밀도 :0.025 재현율 :0.014 f1 :0.018 auc:0.506        "
   ]
  },
  {
   "cell_type": "code",
   "execution_count": 7,
   "id": "e035955b",
   "metadata": {
    "execution": {
     "iopub.execute_input": "2022-01-05T08:28:32.939531Z",
     "iopub.status.busy": "2022-01-05T08:28:32.938789Z",
     "iopub.status.idle": "2022-01-05T08:28:33.006945Z",
     "shell.execute_reply": "2022-01-05T08:28:33.006013Z",
     "shell.execute_reply.started": "2022-01-05T08:24:49.865483Z"
    },
    "papermill": {
     "duration": 0.088638,
     "end_time": "2022-01-05T08:28:33.007085",
     "exception": false,
     "start_time": "2022-01-05T08:28:32.918447",
     "status": "completed"
    },
    "tags": []
   },
   "outputs": [],
   "source": [
    "import seaborn as sns\n",
    "import matplotlib.pyplot as plt\n",
    "from sklearn.preprocessing import StandardScaler"
   ]
  },
  {
   "cell_type": "code",
   "execution_count": 8,
   "id": "ea3b2145",
   "metadata": {
    "execution": {
     "iopub.execute_input": "2022-01-05T08:28:33.049116Z",
     "iopub.status.busy": "2022-01-05T08:28:33.048273Z",
     "iopub.status.idle": "2022-01-05T08:28:34.290267Z",
     "shell.execute_reply": "2022-01-05T08:28:34.290729Z",
     "shell.execute_reply.started": "2022-01-05T08:24:49.872038Z"
    },
    "papermill": {
     "duration": 1.267085,
     "end_time": "2022-01-05T08:28:34.290876",
     "exception": false,
     "start_time": "2022-01-05T08:28:33.023791",
     "status": "completed"
    },
    "tags": []
   },
   "outputs": [
    {
     "data": {
      "text/plain": [
       "<AxesSubplot:xlabel='Amount', ylabel='Density'>"
      ]
     },
     "execution_count": 8,
     "metadata": {},
     "output_type": "execute_result"
    },
    {
     "data": {
      "image/png": "[encoded data removed]",
      "text/plain": [
       "<Figure size 864x432 with 1 Axes>"
      ]
     },
     "metadata": {
      "needs_background": "light"
     },
     "output_type": "display_data"
    }
   ],
   "source": [
    "plt.figure(figsize=(12,6))\n",
    "plt.xticks(range(0,30000,1000),rotation=45)\n",
    "sns.distplot(dataset['Amount'])"
   ]
  },
  {
   "cell_type": "markdown",
   "id": "1f6363cf",
   "metadata": {
    "papermill": {
     "duration": 0.017401,
     "end_time": "2022-01-05T08:28:34.326085",
     "exception": false,
     "start_time": "2022-01-05T08:28:34.308684",
     "status": "completed"
    },
    "tags": []
   },
   "source": [
    "### StandardScaler()를 활용해 scaling을 진행"
   ]
  },
  {
   "cell_type": "code",
   "execution_count": 9,
   "id": "78be30b9",
   "metadata": {
    "execution": {
     "iopub.execute_input": "2022-01-05T08:28:34.371563Z",
     "iopub.status.busy": "2022-01-05T08:28:34.370343Z",
     "iopub.status.idle": "2022-01-05T08:29:03.526723Z",
     "shell.execute_reply": "2022-01-05T08:29:03.527117Z",
     "shell.execute_reply.started": "2022-01-05T08:24:51.127700Z"
    },
    "papermill": {
     "duration": 29.183699,
     "end_time": "2022-01-05T08:29:03.527275",
     "exception": false,
     "start_time": "2022-01-05T08:28:34.343576",
     "status": "completed"
    },
    "tags": []
   },
   "outputs": [
    {
     "name": "stdout",
     "output_type": "stream",
     "text": [
      "LogisticRegression 예측 성능\n",
      "오차행렬 \n",
      "[[85290     5]\n",
      " [   52    96]]  \n",
      "정확도 : 0.999333 정밀도 :0.950 재현율 :0.649 f1 :0.771 auc:0.824\n",
      "==================================================\n",
      "LightGBM 예측성능\n",
      "오차행렬 \n",
      "[[85106   189]\n",
      " [  148     0]]  \n",
      "정확도 : 0.996056 정밀도 :0.000 재현율 :0.000 f1 :0.000 auc:0.499\n",
      "==================================================\n"
     ]
    }
   ],
   "source": [
    "def get_preprocessed_df(df=None): #필요없는 열 제거\n",
    "    df_copy= df.copy()\n",
    "    scaler = StandardScaler()\n",
    "    amount_scaled = scaler.fit_transform(df_copy['Amount'].values.reshape(-1,1))\n",
    "    df_copy.insert(0,'Amount_Scaled',amount_scaled)\n",
    "    df_copy.drop(['Time','Amount'], axis=1, inplace=True)\n",
    "    return df_copy\n",
    "\n",
    "# Amount 분포 변환 후 로지스틱회귀분석, LightGBM 학습/예측/평가 진행\n",
    "X_train, X_test,y_train,y_test = get_train_test_dataset(dataset)\n",
    "\n",
    "print('LogisticRegression 예측 성능')\n",
    "lr_clf = LogisticRegression(solver='liblinear')\n",
    "get_model_train_eval(lr_clf,X_train, X_test,y_train,y_test)\n",
    "print('='*50)\n",
    "\n",
    "print('LightGBM 예측성능')\n",
    "lr_clf = LGBMClassifier(n_estimators=1000, num_leaves=64,n_jobs=-1)\n",
    "get_model_train_eval(lr_clf,X_train, X_test,y_train,y_test)\n",
    "print('='*50)"
   ]
  },
  {
   "cell_type": "markdown",
   "id": "6ce0226d",
   "metadata": {
    "papermill": {
     "duration": 0.018364,
     "end_time": "2022-01-05T08:29:03.564270",
     "exception": false,
     "start_time": "2022-01-05T08:29:03.545906",
     "status": "completed"
    },
    "tags": []
   },
   "source": [
    "### np.log1p를 활용해 scaling을 진행"
   ]
  },
  {
   "cell_type": "code",
   "execution_count": 10,
   "id": "a8ff7bc4",
   "metadata": {
    "execution": {
     "iopub.execute_input": "2022-01-05T08:29:03.609761Z",
     "iopub.status.busy": "2022-01-05T08:29:03.608552Z",
     "iopub.status.idle": "2022-01-05T08:29:31.361092Z",
     "shell.execute_reply": "2022-01-05T08:29:31.360645Z",
     "shell.execute_reply.started": "2022-01-05T08:25:18.774698Z"
    },
    "papermill": {
     "duration": 27.778395,
     "end_time": "2022-01-05T08:29:31.361217",
     "exception": false,
     "start_time": "2022-01-05T08:29:03.582822",
     "status": "completed"
    },
    "tags": []
   },
   "outputs": [
    {
     "name": "stdout",
     "output_type": "stream",
     "text": [
      "LogisticRegression 예측 성능\n",
      "오차행렬 \n",
      "[[85283    12]\n",
      " [   59    89]]  \n",
      "정확도 : 0.999169 정밀도 :0.881 재현율 :0.601 f1 :0.715 auc:0.801\n",
      "==================================================\n",
      "LightGBM 예측성능\n",
      "오차행렬 \n",
      "[[85221    74]\n",
      " [   57    91]]  \n",
      "정확도 : 0.998467 정밀도 :0.552 재현율 :0.615 f1 :0.581 auc:0.807\n",
      "==================================================\n"
     ]
    }
   ],
   "source": [
    "def get_preprocessed_df(df=None): #필요없는 열 제거\n",
    "    df_copy= df.copy()\n",
    "    amount_scaled = np.log1p(df_copy['Amount'])\n",
    "    df_copy.insert(0,'Amount_Scaled',amount_scaled)\n",
    "    df_copy.drop(['Time','Amount'], axis=1, inplace=True)\n",
    "    return df_copy\n",
    "\n",
    "# Amount 분포 변환 후 로지스틱회귀분석, LightGBM 학습/예측/평가 진행\n",
    "X_train, X_test,y_train,y_test = get_train_test_dataset(dataset)\n",
    "\n",
    "print('LogisticRegression 예측 성능')\n",
    "lr_clf = LogisticRegression(solver='liblinear')\n",
    "get_model_train_eval(lr_clf,X_train, X_test,y_train,y_test)\n",
    "print('='*50)\n",
    "\n",
    "print('LightGBM 예측성능')\n",
    "lr_clf = LGBMClassifier(n_estimators=1000, num_leaves=64,n_jobs=-1)\n",
    "get_model_train_eval(lr_clf,X_train, X_test,y_train,y_test)\n",
    "print('='*50)"
   ]
  },
  {
   "cell_type": "markdown",
   "id": "f05ece56",
   "metadata": {
    "papermill": {
     "duration": 0.042715,
     "end_time": "2022-01-05T08:29:31.443517",
     "exception": false,
     "start_time": "2022-01-05T08:29:31.400802",
     "status": "completed"
    },
    "tags": []
   },
   "source": [
    "## 이상치 제거후 모델 학습/예측/평가\n",
    "- 이상치를 제거하기 전보다 재현률이 크게 증가한것을 확인 할 수 있음"
   ]
  },
  {
   "cell_type": "code",
   "execution_count": 11,
   "id": "61a9d7e1",
   "metadata": {
    "execution": {
     "iopub.execute_input": "2022-01-05T08:29:31.517287Z",
     "iopub.status.busy": "2022-01-05T08:29:31.516357Z",
     "iopub.status.idle": "2022-01-05T08:29:32.808247Z",
     "shell.execute_reply": "2022-01-05T08:29:32.808735Z",
     "shell.execute_reply.started": "2022-01-05T08:25:47.654504Z"
    },
    "papermill": {
     "duration": 1.331754,
     "end_time": "2022-01-05T08:29:32.808929",
     "exception": false,
     "start_time": "2022-01-05T08:29:31.477175",
     "status": "completed"
    },
    "tags": []
   },
   "outputs": [
    {
     "data": {
      "text/plain": [
       "<AxesSubplot:>"
      ]
     },
     "execution_count": 11,
     "metadata": {},
     "output_type": "execute_result"
    },
    {
     "data": {
      "image/png": "[encoded data removed]",
      "text/plain": [
       "<Figure size 360x360 with 2 Axes>"
      ]
     },
     "metadata": {
      "needs_background": "light"
     },
     "output_type": "display_data"
    }
   ],
   "source": [
    "plt.figure(figsize=(5,5))\n",
    "corr = dataset.corr()\n",
    "sns.heatmap(corr,cmap='RdBu')"
   ]
  },
  {
   "cell_type": "code",
   "execution_count": 12,
   "id": "1ea65c50",
   "metadata": {
    "execution": {
     "iopub.execute_input": "2022-01-05T08:29:32.862372Z",
     "iopub.status.busy": "2022-01-05T08:29:32.861084Z",
     "iopub.status.idle": "2022-01-05T08:29:32.873863Z",
     "shell.execute_reply": "2022-01-05T08:29:32.873400Z",
     "shell.execute_reply.started": "2022-01-05T08:25:48.732128Z"
    },
    "papermill": {
     "duration": 0.039958,
     "end_time": "2022-01-05T08:29:32.874060",
     "exception": false,
     "start_time": "2022-01-05T08:29:32.834102",
     "status": "completed"
    },
    "tags": []
   },
   "outputs": [
    {
     "name": "stdout",
     "output_type": "stream",
     "text": [
      "이상치 데이터 인덱스 : Int64Index([8296, 8615, 9035, 9252], dtype='int64')\n"
     ]
    }
   ],
   "source": [
    "def get_outlier(df=None, column=None, weight=1.5):\n",
    "    fraud = df[df['Class']==1][column]\n",
    "    q25 = np.percentile(fraud.values,25)\n",
    "    q75 = np.percentile(fraud.values,75)\n",
    "    iqr = q75- q25\n",
    "    iqr_w = iqr*weight\n",
    "    low = q25 - iqr_w\n",
    "    high = q75 + iqr_w\n",
    "    outlier_index = fraud[(fraud<low) | (fraud > high)].index\n",
    "    return outlier_index\n",
    "\n",
    "outlier_index = get_outlier(dataset, column='V14', weight=1.5)\n",
    "print('이상치 데이터 인덱스 :',outlier_index)"
   ]
  },
  {
   "cell_type": "code",
   "execution_count": 13,
   "id": "c407f429",
   "metadata": {
    "execution": {
     "iopub.execute_input": "2022-01-05T08:29:32.930853Z",
     "iopub.status.busy": "2022-01-05T08:29:32.929287Z",
     "iopub.status.idle": "2022-01-05T08:29:57.370625Z",
     "shell.execute_reply": "2022-01-05T08:29:57.371077Z",
     "shell.execute_reply.started": "2022-01-05T08:25:48.747519Z"
    },
    "papermill": {
     "duration": 24.473369,
     "end_time": "2022-01-05T08:29:57.371231",
     "exception": false,
     "start_time": "2022-01-05T08:29:32.897862",
     "status": "completed"
    },
    "tags": []
   },
   "outputs": [
    {
     "name": "stdout",
     "output_type": "stream",
     "text": [
      "LogisticRegression 예측 성능\n",
      "오차행렬 \n",
      "[[85282    13]\n",
      " [   63    83]]  \n",
      "정확도 : 0.999110 정밀도 :0.865 재현율 :0.568 f1 :0.686 auc:0.784\n",
      "==================================================\n",
      "LightGBM 예측성능\n",
      "오차행렬 \n",
      "[[85090   205]\n",
      " [  146     0]]  \n",
      "정확도 : 0.995892 정밀도 :0.000 재현율 :0.000 f1 :0.000 auc:0.499\n",
      "==================================================\n"
     ]
    }
   ],
   "source": [
    "def get_preprocessed_df(df=None): #필요없는 열 제거\n",
    "    df_copy= df.copy()\n",
    "    amount_scaled = np.log1p(df_copy['Amount'])\n",
    "    df_copy.insert(0,'Amount_Scaled',amount_scaled)\n",
    "    df_copy.drop(['Time','Amount'], axis=1, inplace=True)\n",
    "    outlier_index = get_outlier(df_copy, column='V14', weight=1.5)\n",
    "    df_copy.drop(outlier_index,axis=0,inplace=True)\n",
    "    return df_copy\n",
    "\n",
    "# Amount log transformation & outlier제거후 로지스틱회귀분석, LightGBM 학습/예측/평가 진행\n",
    "X_train, X_test,y_train,y_test = get_train_test_dataset(dataset)\n",
    "\n",
    "print('LogisticRegression 예측 성능')\n",
    "lr_clf = LogisticRegression(solver='liblinear')\n",
    "get_model_train_eval(lr_clf,X_train, X_test,y_train,y_test)\n",
    "print('='*50)\n",
    "\n",
    "print('LightGBM 예측성능')\n",
    "lr_clf = LGBMClassifier(n_estimators=1000, num_leaves=64,n_jobs=-1)\n",
    "get_model_train_eval(lr_clf,X_train, X_test,y_train,y_test)\n",
    "print('='*50)"
   ]
  },
  {
   "cell_type": "markdown",
   "id": "3803a568",
   "metadata": {
    "papermill": {
     "duration": 0.021146,
     "end_time": "2022-01-05T08:29:57.413980",
     "exception": false,
     "start_time": "2022-01-05T08:29:57.392834",
     "status": "completed"
    },
    "tags": []
   },
   "source": [
    "## SMOTE 오버샘플링 적용후 모델 학습/예측/평가\n",
    "- 오버샘플링을 한 후 학습/예측/평가를 해보자\n",
    "- SMOTE를 적용할 때는 반드시 학습데이터 세트만 오버샘플링을 해야한다.<br> 검증 데이터나 테스트 데이터 서트를 오버샘플링할경우 올바른 결과라고 할 수 없음\n",
    "    * LogisticRegression 예측 성능 : <br> 정확도 : 0.971981 정밀도 :0.054 재현율 :0.925 f1 :0.101 auc:0.948 <Br> **로지스틱회귀분석의 경우 정밀도가 매우 낮아서 모델을 적용할수 없다.<Br> 실제 원본보다 매우 많은 Class=1 데이터를 학습하면서 실제 데이터 세트에서 예측을 지나치게 Class=1에 적용해 정밀도가 급격히 떨어지게 되었음**\n",
    "    * LightGBM 예측성능 : <br> 정확도 : 0.999462 정밀도 :0.852 재현율 :0.829 f1 :0.840 auc:0.914\n",
    "  "
   ]
  },
  {
   "cell_type": "code",
   "execution_count": 14,
   "id": "304d5430",
   "metadata": {
    "execution": {
     "iopub.execute_input": "2022-01-05T08:29:57.464273Z",
     "iopub.status.busy": "2022-01-05T08:29:57.463575Z",
     "iopub.status.idle": "2022-01-05T08:31:06.542179Z",
     "shell.execute_reply": "2022-01-05T08:31:06.542843Z",
     "shell.execute_reply.started": "2022-01-05T08:26:16.166571Z"
    },
    "papermill": {
     "duration": 69.107305,
     "end_time": "2022-01-05T08:31:06.543059",
     "exception": false,
     "start_time": "2022-01-05T08:29:57.435754",
     "status": "completed"
    },
    "tags": []
   },
   "outputs": [
    {
     "name": "stdout",
     "output_type": "stream",
     "text": [
      "smote 적용 전 train dataset shape (199362, 29) (199362,)\n",
      "smote 적용 후 train dataset shape (398040, 29) (398040,)\n",
      "smote 적용 후 target 분포 :\n",
      " 0    199020\n",
      "1    199020\n",
      "Name: Class, dtype: int64\n",
      "==================================================\n",
      "LogisticRegression 예측 성능\n",
      "오차행렬 \n",
      "[[83366  1929]\n",
      " [   25   121]]  \n",
      "정확도 : 0.977130 정밀도 :0.059 재현율 :0.829 f1 :0.110 auc:0.903\n",
      "==================================================\n",
      "LightGBM 예측성능\n",
      "오차행렬 \n",
      "[[85268    27]\n",
      " [   33   113]]  \n",
      "정확도 : 0.999298 정밀도 :0.807 재현율 :0.774 f1 :0.790 auc:0.887\n",
      "==================================================\n"
     ]
    }
   ],
   "source": [
    "from imblearn.over_sampling import SMOTE\n",
    "\n",
    "smote = SMOTE()\n",
    "X_train_over, y_train_over = smote.fit_resample(X_train,y_train)\n",
    "print('smote 적용 전 train dataset shape',X_train.shape, y_train.shape)\n",
    "print('smote 적용 후 train dataset shape',X_train_over.shape, y_train_over.shape)\n",
    "print('smote 적용 후 target 분포 :\\n', y_train_over.value_counts()); print('='*50)\n",
    "\n",
    "print('LogisticRegression 예측 성능')\n",
    "lr_clf = LogisticRegression(solver='liblinear')\n",
    "get_model_train_eval(lr_clf,X_train_over, X_test,y_train_over,y_test)\n",
    "print('='*50)\n",
    "\n",
    "print('LightGBM 예측성능')\n",
    "lr_clf = LGBMClassifier(n_estimators=1000, num_leaves=64,n_jobs=-1)\n",
    "get_model_train_eval(lr_clf,X_train_over, X_test,y_train_over,y_test)\n",
    "print('='*50)\n"
   ]
  }
 ],
 "metadata": {
  "kernelspec": {
   "display_name": "Python 3",
   "language": "python",
   "name": "python3"
  },
  "language_info": {
   "codemirror_mode": {
    "name": "ipython",
    "version": 3
   },
   "file_extension": ".py",
   "mimetype": "text/x-python",
   "name": "python",
   "nbconvert_exporter": "python",
   "pygments_lexer": "ipython3",
   "version": "3.7.12"
  },
  "papermill": {
   "default_parameters": {},
   "duration": 205.681447,
   "end_time": "2022-01-05T08:31:07.678310",
   "environment_variables": {},
   "exception": null,
   "input_path": "__notebook__.ipynb",
   "output_path": "__notebook__.ipynb",
   "parameters": {},
   "start_time": "2022-01-05T08:27:41.996863",
   "version": "2.3.3"
  }
 },
 "nbformat": 4,
 "nbformat_minor": 5
}
