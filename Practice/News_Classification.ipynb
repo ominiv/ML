{
  "nbformat": 4,
  "nbformat_minor": 0,
  "metadata": {
    "colab": {
      "name": "Text Classification.ipynb",
      "provenance": [],
      "collapsed_sections": [],
      "authorship_tag": "ABX9TyMWjTWEAIkr77SKewLAnyg+"
    },
    "kernelspec": {
      "name": "python3",
      "display_name": "Python 3"
    },
    "language_info": {
      "name": "python"
    }
  },
  "cells": [
    {
      "cell_type": "markdown",
      "source": [
        "# 뉴스그룹 분류\n",
        "- 로지스틱회귀, 서포트벡터머신, 나이브베이지안 알고르즘들이 주로 사용된다."
      ],
      "metadata": {
        "id": "tYH6gRQtKua4"
      }
    },
    {
      "cell_type": "code",
      "source": [
        "from sklearn.datasets import fetch_20newsgroups\n",
        "import pandas as pd\n",
        "import numpy as np\n",
        "import matplotlib.pyplot as plt\n",
        "trains_news = fetch_20newsgroups(subset='train', remove=('headers','footers','quotes'), random_state=156)\n",
        "X_train = trains_news.data\n",
        "y_train = trains_news.target\n",
        "\n",
        "tests_news = fetch_20newsgroups(subset='test', remove=('headers','footers','quotes'), random_state=156)\n",
        "X_test = tests_news.data\n",
        "y_test = tests_news.target\n",
        "\n",
        "print(len(X_train), len(X_test))"
      ],
      "metadata": {
        "colab": {
          "base_uri": "https://localhost:8080/"
        },
        "id": "VWzn-p4WK5rs",
        "outputId": "995b14f7-88ec-4e42-f435-01ecc5961f00"
      },
      "execution_count": 41,
      "outputs": [
        {
          "output_type": "stream",
          "name": "stdout",
          "text": [
            "11314 7532\n"
          ]
        }
      ]
    },
    {
      "cell_type": "markdown",
      "source": [
        "## Count 기반 피쳐벡터화\n",
        "- `CountVectorizer` \n",
        "- CountVectorized Logistic Regression accuracy :  0.62\n"
      ],
      "metadata": {
        "id": "mcpIqOjMTyJ4"
      }
    },
    {
      "cell_type": "code",
      "source": [
        "from sklearn.feature_extraction.text import CountVectorizer\n",
        "cnt_vect = CountVectorizer()\n",
        "# 테스트 데이터 피처 벡터화를 할때 fit_transform을 사용하면안된다.\n",
        "# 만약 train.fit_transform / test.fit_transform을 사용하면 컬럼수가 달라짐.\n",
        "cnt_vect.fit(X_train,y_train)\n",
        "X_train_cnt_vect= cnt_vect.transform(X_train)\n",
        "X_test_cnt_vect = cnt_vect.transform(X_test)\n",
        "\n",
        "print('X_train_cnt_vect shape :', X_train_cnt_vect.shape)\n",
        "print('X_test_cnt_vect shape :', X_test_cnt_vect.shape)"
      ],
      "metadata": {
        "colab": {
          "base_uri": "https://localhost:8080/"
        },
        "id": "jhjOlnCJK-_D",
        "outputId": "e1c5a226-d3f8-4e83-ac23-88730aaafc53"
      },
      "execution_count": 45,
      "outputs": [
        {
          "output_type": "stream",
          "name": "stdout",
          "text": [
            "X_train_cnt_vect shape : (11314, 101631)\n",
            "X_test_cnt_vect shape : (7532, 101631)\n"
          ]
        }
      ]
    },
    {
      "cell_type": "code",
      "source": [
        "from sklearn.linear_model import LogisticRegression\n",
        "from sklearn.metrics import roc_auc_score, r2_score, accuracy_score\n",
        "lr_model = LogisticRegression(solver='liblinear')\n",
        "lr_model.fit(X_train_cnt_vect, y_train)\n",
        "pred = lr_model.predict(X_test_cnt_vect)\n",
        "accuracy = accuracy_score(pred,y_test)\n",
        "print('CountVectorized Logistic Regression accuracy : ', np.around(accuracy,2))\n"
      ],
      "metadata": {
        "colab": {
          "base_uri": "https://localhost:8080/"
        },
        "id": "oDE-HOyEPow0",
        "outputId": "f7aa8c47-6d92-4970-bd6a-8ebaf42ea68d"
      },
      "execution_count": 49,
      "outputs": [
        {
          "output_type": "stream",
          "name": "stdout",
          "text": [
            "CountVectorized Logistic Regression accuracy :  0.62\n"
          ]
        }
      ]
    },
    {
      "cell_type": "markdown",
      "source": [
        "## TFIDF 기반 피쳐벡터화\n",
        "- `TfidVectorizer` \n",
        "- TFIDF Logistic Regression accuracy :  0.68"
      ],
      "metadata": {
        "id": "nNhvCKNeT_CK"
      }
    },
    {
      "cell_type": "code",
      "source": [
        "from sklearn.feature_extraction.text import TfidfVectorizer\n",
        "\n",
        "tfidf_vect = TfidfVectorizer()\n",
        "tfidf_vect.fit(X_train)\n",
        "X_train_tfidf_vect = tfidf_vect.transform(X_train)\n",
        "X_test_tfidf_vect = tfidf_vect.transform(X_test)\n",
        "\n",
        "print('X_train_tfidf_vect.shape: ', X_train_tfidf_vect.shape)\n",
        "print('X_test.shape: ',X_test_tfidf_vect.shape)"
      ],
      "metadata": {
        "colab": {
          "base_uri": "https://localhost:8080/"
        },
        "id": "u3zTcC-ITTEC",
        "outputId": "a82eded9-f1f0-4054-b5cf-687e0d14aab5"
      },
      "execution_count": 54,
      "outputs": [
        {
          "output_type": "stream",
          "name": "stdout",
          "text": [
            "X_train_tfidf_vect.shape:  (11314, 101631)\n",
            "X_test.shape:  (7532, 101631)\n"
          ]
        }
      ]
    },
    {
      "cell_type": "code",
      "source": [
        "lr_model = LogisticRegression(solver='liblinear')\n",
        "lr_model.fit(X_train_tfidf_vect,y_train)\n",
        "pred =lr_model.predict(X_test_tfidf_vect)\n",
        "accuracy = accuracy_score(pred,y_test)\n",
        "print('TFIDF Logistic Regression accuracy : ', np.around(accuracy,2))"
      ],
      "metadata": {
        "colab": {
          "base_uri": "https://localhost:8080/"
        },
        "id": "qMNKfdMwUupG",
        "outputId": "ed58e632-076b-48c1-e0ae-d40d83f8c5a5"
      },
      "execution_count": 55,
      "outputs": [
        {
          "output_type": "stream",
          "name": "stdout",
          "text": [
            "TFIDF Logistic Regression accuracy :  0.68\n"
          ]
        }
      ]
    },
    {
      "cell_type": "markdown",
      "source": [
        "## hyper-parameter turning\n",
        "TFIDF가 count 기반보다 높은 예측성능을 보인다. \n",
        "그렇다면 파라미터를 변경해서 성능을 높혀보자\n",
        "- GridSearchCV best accuracy :  0.75\n",
        "- TFIDF Logistic Regression accuracy :  0.69"
      ],
      "metadata": {
        "id": "K-BoAXniWIBl"
      }
    },
    {
      "cell_type": "code",
      "source": [
        "tfidf_vect = TfidfVectorizer(stop_words='english',ngram_range=(1,2),max_df=300)\n",
        "tfidf_vect.fit(X_train,y_train)\n",
        "X_train_tfidf_vect = tfidf_vect.transform(X_train)\n",
        "X_test_tfidf_vect = tfidf_vect.transform(X_test)\n",
        "print('X_train_tfidf_vect : ',X_train_tfidf_vect.shape)\n",
        "print('X_test_tfidf_vect : ',X_test_tfidf_vect.shape)\n",
        "\n",
        "lr_model = LogisticRegression(solver='liblinear')\n",
        "lr_model.fit(X_train_tfidf_vect,y_train)\n",
        "pred = lr_model.predict(X_test_tfidf_vect)\n",
        "accuracy = accuracy_score(pred, y_test)\n",
        "print('TFIDF Logistic Regression accuracy : ', np.around(accuracy,2))"
      ],
      "metadata": {
        "colab": {
          "base_uri": "https://localhost:8080/"
        },
        "id": "_5sHMX34WgDB",
        "outputId": "a2932117-64f4-4a02-f84e-f17d0a6c67c0"
      },
      "execution_count": 58,
      "outputs": [
        {
          "output_type": "stream",
          "name": "stdout",
          "text": [
            "X_train_tfidf_vect :  (11314, 943453)\n",
            "X_test_tfidf_vect :  (7532, 943453)\n",
            "TFIDF Logistic Regression accuracy :  0.69\n"
          ]
        }
      ]
    },
    {
      "cell_type": "markdown",
      "source": [
        "GridSearchCV로 로지스틱회귀분석의 하이퍼파라미터 최적화를 해보자"
      ],
      "metadata": {
        "id": "5Se6zIS3Xh3i"
      }
    },
    {
      "cell_type": "code",
      "source": [
        "from sklearn.model_selection import GridSearchCV\n",
        "params={'C':[0.01,0.1,1,5,10]}\n",
        "gridcv= GridSearchCV(lr_model, param_grid=params, cv=3, scoring='accuracy')\n",
        "gridcv.fit(X_train_tfidf_vect,y_train)\n",
        "print('TFIDF Logistic Regression best parameter : ', gridcv.best_estimator_)\n",
        "print('TFIDF Logistic Regression best accuracy : ', np.around(gridcv.best_score_,2))\n",
        "\n",
        "#최적 C값으로 예측\n",
        "pred = lr_model.predict(X_test_tfidf_vect)\n",
        "accuracy = accuracy_score(pred, y_test)\n",
        "print('TFIDF Logistic Regression accuracy : ', np.around(accuracy,2))\n"
      ],
      "metadata": {
        "colab": {
          "base_uri": "https://localhost:8080/"
        },
        "id": "o91CDpg-Vsxs",
        "outputId": "e90f43ec-040c-4655-dfef-5dd90d77710f"
      },
      "execution_count": 60,
      "outputs": [
        {
          "output_type": "stream",
          "name": "stdout",
          "text": [
            "TFIDF Logistic Regression best parameter :  LogisticRegression(C=10, solver='liblinear')\n",
            "TFIDF Logistic Regression best accuracy :  0.75\n",
            "TFIDF Logistic Regression accuracy :  0.69\n"
          ]
        }
      ]
    },
    {
      "cell_type": "markdown",
      "source": [
        "# 결론 \n",
        "- 본 데이터에서는 tfidf가 더 피처벡터화에 효과적이며 단어의 수가 많아질수록 분류 accuracy가 높아지는걸 확인함\n",
        "- train 데이터셋을 교차검증해 나온 최고 점수가 0.75이지만 test데이터로 평가해본 결과 0.69이 나온 것으로 보아 파라미터를 설정한 모델이 train 데이터에 다소 과적합 되었다고 볼 수 있다."
      ],
      "metadata": {
        "id": "Sq9oSCRLWaku"
      }
    }
  ]
}